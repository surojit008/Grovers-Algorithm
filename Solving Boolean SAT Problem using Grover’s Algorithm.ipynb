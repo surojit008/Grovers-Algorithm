{
 "cells": [
  {
   "cell_type": "code",
   "execution_count": 14,
   "metadata": {},
   "outputs": [],
   "source": [
    "from qiskit import *\n",
    "from qiskit.visualization import *\n",
    "from qiskit.circuit.library import *\n",
    "from qiskit.quantum_info import *"
   ]
  },
  {
   "cell_type": "code",
   "execution_count": 15,
   "metadata": {},
   "outputs": [
    {
     "data": {
      "text/html": [
       "<pre style=\"word-wrap: normal;white-space: pre;background: #fff0;line-height: 1.1;font-family: &quot;Courier New&quot;,Courier,monospace\">     \n",
       "q_0: \n",
       "     \n",
       "q_1: \n",
       "     \n",
       "q_2: \n",
       "     \n",
       "q_3: \n",
       "     \n",
       "q_4: \n",
       "     </pre>"
      ],
      "text/plain": [
       "     \n",
       "q_0: \n",
       "     \n",
       "q_1: \n",
       "     \n",
       "q_2: \n",
       "     \n",
       "q_3: \n",
       "     \n",
       "q_4: \n",
       "     "
      ]
     },
     "execution_count": 15,
     "metadata": {},
     "output_type": "execute_result"
    }
   ],
   "source": [
    "qc1 = QuantumCircuit(5)\n",
    "qc1.draw()"
   ]
  },
  {
   "cell_type": "code",
   "execution_count": 3,
   "metadata": {},
   "outputs": [
    {
     "data": {
      "text/plain": [
       "<qiskit.circuit.instructionset.InstructionSet at 0x24d38a58a00>"
      ]
     },
     "execution_count": 3,
     "metadata": {},
     "output_type": "execute_result"
    }
   ],
   "source": [
    "s1 = Statevector.from_label('11011')\n",
    "cir1 = Diagonal((-1)**s1.data)\n",
    "s2 = Statevector.from_label('11001')\n",
    "cir2 = Diagonal((-1)**s2.data)\n",
    "s3 = Statevector.from_label('11110')\n",
    "cir3 = Diagonal((-1)**s3.data)\n",
    "s4 = Statevector.from_label('11010')\n",
    "cir4 = Diagonal((-1)**s4.data)\n",
    "s5 = Statevector.from_label('11000')\n",
    "cir5 = Diagonal((-1)**s5.data)\n",
    "qc1.append(cir1, [0,1,2,3,4])\n",
    "qc1.append(cir2, [0,1,2,3,4])\n",
    "qc1.append(cir3, [0,1,2,3,4])\n",
    "qc1.append(cir4, [0,1,2,3,4])"
   ]
  },
  {
   "cell_type": "code",
   "execution_count": 4,
   "metadata": {},
   "outputs": [
    {
     "data": {
      "text/html": [
       "<pre style=\"word-wrap: normal;white-space: pre;background: #fff0;line-height: 1.1;font-family: &quot;Courier New&quot;,Courier,monospace\">     ┌───────────┐┌───────────┐┌───────────┐┌───────────┐┌───────────┐\n",
       "q_0: ┤0          ├┤0          ├┤0          ├┤0          ├┤0          ├\n",
       "     │           ││           ││           ││           ││           │\n",
       "q_1: ┤1          ├┤1          ├┤1          ├┤1          ├┤1          ├\n",
       "     │           ││           ││           ││           ││           │\n",
       "q_2: ┤2 Diagonal ├┤2 Diagonal ├┤2 Diagonal ├┤2 Diagonal ├┤2 Diagonal ├\n",
       "     │           ││           ││           ││           ││           │\n",
       "q_3: ┤3          ├┤3          ├┤3          ├┤3          ├┤3          ├\n",
       "     │           ││           ││           ││           ││           │\n",
       "q_4: ┤4          ├┤4          ├┤4          ├┤4          ├┤4          ├\n",
       "     └───────────┘└───────────┘└───────────┘└───────────┘└───────────┘</pre>"
      ],
      "text/plain": [
       "     ┌───────────┐┌───────────┐┌───────────┐┌───────────┐┌───────────┐\n",
       "q_0: ┤0          ├┤0          ├┤0          ├┤0          ├┤0          ├\n",
       "     │           ││           ││           ││           ││           │\n",
       "q_1: ┤1          ├┤1          ├┤1          ├┤1          ├┤1          ├\n",
       "     │           ││           ││           ││           ││           │\n",
       "q_2: ┤2 Diagonal ├┤2 Diagonal ├┤2 Diagonal ├┤2 Diagonal ├┤2 Diagonal ├\n",
       "     │           ││           ││           ││           ││           │\n",
       "q_3: ┤3          ├┤3          ├┤3          ├┤3          ├┤3          ├\n",
       "     │           ││           ││           ││           ││           │\n",
       "q_4: ┤4          ├┤4          ├┤4          ├┤4          ├┤4          ├\n",
       "     └───────────┘└───────────┘└───────────┘└───────────┘└───────────┘"
      ]
     },
     "execution_count": 4,
     "metadata": {},
     "output_type": "execute_result"
    }
   ],
   "source": [
    "qc1.append(cir5, [0,1,2,3,4])\n",
    "qc1.draw()"
   ]
  },
  {
   "cell_type": "code",
   "execution_count": 6,
   "metadata": {},
   "outputs": [
    {
     "data": {
      "text/html": [
       "<pre style=\"word-wrap: normal;white-space: pre;background: #fff0;line-height: 1.1;font-family: &quot;Courier New&quot;,Courier,monospace\">     \n",
       "q_0: \n",
       "     \n",
       "q_1: \n",
       "     \n",
       "q_2: \n",
       "     \n",
       "q_3: \n",
       "     \n",
       "q_4: \n",
       "     </pre>"
      ],
      "text/plain": [
       "     \n",
       "q_0: \n",
       "     \n",
       "q_1: \n",
       "     \n",
       "q_2: \n",
       "     \n",
       "q_3: \n",
       "     \n",
       "q_4: \n",
       "     "
      ]
     },
     "execution_count": 6,
     "metadata": {},
     "output_type": "execute_result"
    }
   ],
   "source": [
    "qc2 = QuantumCircuit(5)\n",
    "qc2.draw()"
   ]
  },
  {
   "cell_type": "code",
   "execution_count": 7,
   "metadata": {},
   "outputs": [
    {
     "data": {
      "text/plain": [
       "<qiskit.circuit.instructionset.InstructionSet at 0x24d38a2e800>"
      ]
     },
     "execution_count": 7,
     "metadata": {},
     "output_type": "execute_result"
    }
   ],
   "source": [
    "qc2.h([0,1,2,3,4])\n",
    "qc2.x([0,1,2,3,4])\n",
    "istate = Statevector.from_label('11111')\n",
    "istate = Diagonal((-1)**istate.data)\n",
    "qc2.append(istate, [0,1,2,3,4])\n",
    "qc2.x([0,1,2,3,4])\n",
    "qc2.h([0,1,2,3,4])"
   ]
  },
  {
   "cell_type": "code",
   "execution_count": 9,
   "metadata": {},
   "outputs": [
    {
     "data": {
      "text/html": [
       "<pre style=\"word-wrap: normal;white-space: pre;background: #fff0;line-height: 1.1;font-family: &quot;Courier New&quot;,Courier,monospace\">     ┌───┐┌───┐┌───────────┐┌───┐┌───┐\n",
       "q_0: ┤ H ├┤ X ├┤0          ├┤ X ├┤ H ├\n",
       "     ├───┤├───┤│           │├───┤├───┤\n",
       "q_1: ┤ H ├┤ X ├┤1          ├┤ X ├┤ H ├\n",
       "     ├───┤├───┤│           │├───┤├───┤\n",
       "q_2: ┤ H ├┤ X ├┤2 Diagonal ├┤ X ├┤ H ├\n",
       "     ├───┤├───┤│           │├───┤├───┤\n",
       "q_3: ┤ H ├┤ X ├┤3          ├┤ X ├┤ H ├\n",
       "     ├───┤├───┤│           │├───┤├───┤\n",
       "q_4: ┤ H ├┤ X ├┤4          ├┤ X ├┤ H ├\n",
       "     └───┘└───┘└───────────┘└───┘└───┘</pre>"
      ],
      "text/plain": [
       "     ┌───┐┌───┐┌───────────┐┌───┐┌───┐\n",
       "q_0: ┤ H ├┤ X ├┤0          ├┤ X ├┤ H ├\n",
       "     ├───┤├───┤│           │├───┤├───┤\n",
       "q_1: ┤ H ├┤ X ├┤1          ├┤ X ├┤ H ├\n",
       "     ├───┤├───┤│           │├───┤├───┤\n",
       "q_2: ┤ H ├┤ X ├┤2 Diagonal ├┤ X ├┤ H ├\n",
       "     ├───┤├───┤│           │├───┤├───┤\n",
       "q_3: ┤ H ├┤ X ├┤3          ├┤ X ├┤ H ├\n",
       "     ├───┤├───┤│           │├───┤├───┤\n",
       "q_4: ┤ H ├┤ X ├┤4          ├┤ X ├┤ H ├\n",
       "     └───┘└───┘└───────────┘└───┘└───┘"
      ]
     },
     "execution_count": 9,
     "metadata": {},
     "output_type": "execute_result"
    }
   ],
   "source": [
    "qc2.draw()"
   ]
  },
  {
   "cell_type": "code",
   "execution_count": 11,
   "metadata": {},
   "outputs": [
    {
     "data": {
      "text/html": [
       "<pre style=\"word-wrap: normal;white-space: pre;background: #fff0;line-height: 1.1;font-family: &quot;Courier New&quot;,Courier,monospace\">     ┌───┐┌────────────┐┌─────────────┐┌────────────┐┌─────────────┐\n",
       "q_0: ┤ H ├┤0           ├┤0            ├┤0           ├┤0            ├\n",
       "     ├───┤│            ││             ││            ││             │\n",
       "q_1: ┤ H ├┤1           ├┤1            ├┤1           ├┤1            ├\n",
       "     ├───┤│            ││             ││            ││             │\n",
       "q_2: ┤ H ├┤2 circuit-0 ├┤2 circuit-21 ├┤2 circuit-0 ├┤2 circuit-21 ├\n",
       "     ├───┤│            ││             ││            ││             │\n",
       "q_3: ┤ H ├┤3           ├┤3            ├┤3           ├┤3            ├\n",
       "     ├───┤│            ││             ││            ││             │\n",
       "q_4: ┤ H ├┤4           ├┤4            ├┤4           ├┤4            ├\n",
       "     └───┘└────────────┘└─────────────┘└────────────┘└─────────────┘\n",
       "c: 5/═══════════════════════════════════════════════════════════════\n",
       "                                                                    </pre>"
      ],
      "text/plain": [
       "     ┌───┐┌────────────┐┌─────────────┐┌────────────┐┌─────────────┐\n",
       "q_0: ┤ H ├┤0           ├┤0            ├┤0           ├┤0            ├\n",
       "     ├───┤│            ││             ││            ││             │\n",
       "q_1: ┤ H ├┤1           ├┤1            ├┤1           ├┤1            ├\n",
       "     ├───┤│            ││             ││            ││             │\n",
       "q_2: ┤ H ├┤2 circuit-0 ├┤2 circuit-21 ├┤2 circuit-0 ├┤2 circuit-21 ├\n",
       "     ├───┤│            ││             ││            ││             │\n",
       "q_3: ┤ H ├┤3           ├┤3            ├┤3           ├┤3            ├\n",
       "     ├───┤│            ││             ││            ││             │\n",
       "q_4: ┤ H ├┤4           ├┤4            ├┤4           ├┤4            ├\n",
       "     └───┘└────────────┘└─────────────┘└────────────┘└─────────────┘\n",
       "c: 5/═══════════════════════════════════════════════════════════════\n",
       "                                                                    "
      ]
     },
     "execution_count": 11,
     "metadata": {},
     "output_type": "execute_result"
    }
   ],
   "source": [
    "qc = QuantumCircuit(5,5)\n",
    "qc.h([0,1,2,3,4])\n",
    "for i in range(2):\n",
    "    qc.append(qc1,[0,1,2,3,4])\n",
    "    qc.append(qc2,[0,1,2,3,4])\n",
    "qc.draw()"
   ]
  },
  {
   "cell_type": "code",
   "execution_count": 13,
   "metadata": {},
   "outputs": [
    {
     "data": {
      "image/png": "[encoded data removed]",
      "text/plain": [
       "<Figure size 504x360 with 1 Axes>"
      ]
     },
     "execution_count": 13,
     "metadata": {},
     "output_type": "execute_result"
    }
   ],
   "source": [
    "qc.measure([0,1,2,3,4],[0,1,2,3,4])\n",
    "backend = Aer.get_backend('aer_simulator')\n",
    "circuit = transpile(qc, backend)\n",
    "qobj = assemble(circuit)\n",
    "results = backend.run(qobj,iterations = 2).result()\n",
    "counts = results.get_counts()\n",
    "plot_histogram(counts)"
   ]
  },
  {
   "cell_type": "code",
   "execution_count": null,
   "metadata": {},
   "outputs": [],
   "source": []
  }
 ],
 "metadata": {
  "kernelspec": {
   "display_name": "Python 3",
   "language": "python",
   "name": "python3"
  },
  "language_info": {
   "codemirror_mode": {
    "name": "ipython",
    "version": 3
   },
   "file_extension": ".py",
   "mimetype": "text/x-python",
   "name": "python",
   "nbconvert_exporter": "python",
   "pygments_lexer": "ipython3",
   "version": "3.8.5"
  }
 },
 "nbformat": 4,
 "nbformat_minor": 4
}
